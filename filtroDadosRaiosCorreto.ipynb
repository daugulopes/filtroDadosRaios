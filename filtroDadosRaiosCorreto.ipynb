{
 "cells": [
  {
   "cell_type": "code",
   "execution_count": 1,
   "metadata": {},
   "outputs": [],
   "source": [
    "#código filtro dados\n",
    "\n",
    "#extrair todos os arquivos na mesma pasta que python estiver rodando.\n",
    "#trocar o ano no nome do arquivo csv\n",
    "#o procedimento pode ser feito para cada mês também.\n",
    "\n",
    "#importando módulos\n",
    "import pandas as pd\n",
    "import glob\n",
    "#criar lista com os arquivos do ano\n",
    "dados = glob.glob('starnet*.dat')\n",
    "#loop para ler todos arquivos e filtrar pela Coluna 11 que são os dados de qualidade\n",
    "for i in range(0,365):\n",
    "    df = pd.read_csv(dados[i], sep=\"\\s+\",header=None, prefix=\"Coluna_\" )\n",
    "    filtro1 = df[(df.Coluna_11==0) & (df.Coluna_7<=-19.49) & (df.Coluna_7>=-20.39) & \n",
    "                 (df.Coluna_8<=-43.56) & (df.Coluna_8>=-44.67) ][[\"Coluna_0\",\"Coluna_1\",\n",
    "                                                                  \"Coluna_2\",\"Coluna_3\",\n",
    "                                                                  \"Coluna_4\",\"Coluna_5\",\n",
    "                                                                  \"Coluna_7\",\"Coluna_8\",\n",
    "                                                                  \"Coluna_11\"]]\n",
    "    filtro1.to_csv('%i_2014.csv' %i)\n",
    "# juntando todos os arquivos criados no filtro e criar um arquivo csv com todos os dados do ano\n",
    "dados2014 = pd.concat(map(pd.read_csv, glob.glob('*_2014.csv')),ignore_index=True, axis=0)\n",
    "dados2014.to_csv('dados2014.csv',index=False)"
   ]
  },
  {
   "cell_type": "code",
   "execution_count": null,
   "metadata": {},
   "outputs": [],
   "source": []
  }
 ],
 "metadata": {
  "kernelspec": {
   "display_name": "Python 3",
   "language": "python",
   "name": "python3"
  },
  "language_info": {
   "codemirror_mode": {
    "name": "ipython",
    "version": 3
   },
   "file_extension": ".py",
   "mimetype": "text/x-python",
   "name": "python",
   "nbconvert_exporter": "python",
   "pygments_lexer": "ipython3",
   "version": "3.8.3"
  }
 },
 "nbformat": 4,
 "nbformat_minor": 4
}
